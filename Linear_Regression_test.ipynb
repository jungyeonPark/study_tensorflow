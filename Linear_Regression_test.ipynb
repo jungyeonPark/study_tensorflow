{
 "cells": [
  {
   "cell_type": "code",
   "execution_count": 38,
   "metadata": {},
   "outputs": [
    {
     "name": "stdout",
     "output_type": "stream",
     "text": [
      "    0|     2.452|     0.376| 45.660004\n",
      "   10|     1.104|  0.003398|  0.206336\n",
      "   20|     1.013|  -0.02091|  0.001026\n",
      "   30|     1.007|  -0.02184|  0.000093\n",
      "   40|     1.006|  -0.02123|  0.000083\n",
      "   50|     1.006|  -0.02053|  0.000077\n",
      "   60|     1.005|  -0.01984|  0.000072\n",
      "   70|     1.005|  -0.01918|  0.000067\n",
      "   80|     1.005|  -0.01854|  0.000063\n",
      "   90|     1.005|  -0.01793|  0.000059\n"
     ]
    }
   ],
   "source": [
    "import tensorflow as tf\n",
    "\n",
    "# Data\n",
    "x_data = [1, 2, 3, 4, 5]  # input\n",
    "y_data = [1, 2, 3, 4, 5]  # output\n",
    "\n",
    "# 원래 W와 b값은 랜덤으로 설정\n",
    "W = tf.Variable(2.9)\n",
    "b = tf.Variable(0.5)\n",
    "\n",
    "# Learning_rate : 구한 gradient값을 얼마나 반영할 것인지(보통 아주 작은 값을 씀)\n",
    "learning_rate = 0.01\n",
    "\n",
    "for i in range(100):\n",
    "    # Gradient descent : cost를 minimize해주는 알고리즘. 경사를 하강하면서 찾음\n",
    "    with tf.GradientTape() as tape:   # with as는 파일을 자동으로 닫아주는 구문\n",
    "        hypothesis = W * x_data + b\n",
    "        # tf.reduce_mean() : 평균을 내서 차원을 줄인 것\n",
    "        cost = tf.reduce_mean(tf.square(hypothesis - y_data))   # Cost함수\n",
    "\n",
    "    W_grad, b_grad = tape.gradient(cost, [W, b])  # W와 b의 기울기를 반환\n",
    "\n",
    "    # A.assign_sub(B) : A -= B\n",
    "    W.assign_sub(learning_rate * W_grad)  \n",
    "    b.assign_sub(learning_rate * b_grad)\n",
    "    \n",
    "    if i % 10 == 0:\n",
    "        print(\"{:5}|{:10.4}|{:10.4}|{:10.6f}\".format(i, W.numpy(), b.numpy(), cost))"
   ]
  },
  {
   "cell_type": "code",
   "execution_count": null,
   "metadata": {},
   "outputs": [],
   "source": []
  },
  {
   "cell_type": "code",
   "execution_count": null,
   "metadata": {},
   "outputs": [],
   "source": []
  },
  {
   "cell_type": "code",
   "execution_count": null,
   "metadata": {},
   "outputs": [],
   "source": []
  }
 ],
 "metadata": {
  "kernelspec": {
   "display_name": "Python 3",
   "language": "python",
   "name": "python3"
  },
  "language_info": {
   "codemirror_mode": {
    "name": "ipython",
    "version": 3
   },
   "file_extension": ".py",
   "mimetype": "text/x-python",
   "name": "python",
   "nbconvert_exporter": "python",
   "pygments_lexer": "ipython3",
   "version": "3.7.7"
  }
 },
 "nbformat": 4,
 "nbformat_minor": 4
}
